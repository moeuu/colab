{
  "nbformat": 4,
  "nbformat_minor": 0,
  "metadata": {
    "colab": {
      "name": "alkwarizmi_prod.ipynb",
      "provenance": [],
      "collapsed_sections": [],
      "include_colab_link": true
    },
    "kernelspec": {
      "name": "python3",
      "display_name": "Python 3"
    }
  },
  "cells": [
    {
      "cell_type": "markdown",
      "metadata": {
        "id": "view-in-github",
        "colab_type": "text"
      },
      "source": [
        "<a href=\"https://colab.research.google.com/github/moeuu/colab/blob/main/alkwarizmi_prod.ipynb\" target=\"_parent\"><img src=\"https://colab.research.google.com/assets/colab-badge.svg\" alt=\"Open In Colab\"/></a>"
      ]
    },
    {
      "cell_type": "markdown",
      "metadata": {
        "id": "fYvwr9YZr3EE"
      },
      "source": [
        "# アル・フアリズミーによる（？）乗算"
      ]
    },
    {
      "cell_type": "markdown",
      "metadata": {
        "id": "jjyoDnOAr-zG"
      },
      "source": [
        "アル・フアリズミーが著した本に書かれていたという乗算方法を以下に関数alkwarizmi_prodとして定義する．\n",
        "関数alkwarizmi_prodにおける変数zは積（の計算の途中経過）を保存するための変数である．"
      ]
    },
    {
      "cell_type": "code",
      "metadata": {
        "id": "iDZ3lv6dr2F6"
      },
      "source": [
        "def alkwarizmi_prod(x, y):\n",
        "    z = 0\n",
        "    while x >= 1:\n",
        "        if x % 2 == 1:\n",
        "            z += y\n",
        "        x = x // 2\n",
        "        y *= 2\n",
        "    return z"
      ],
      "execution_count": null,
      "outputs": []
    },
    {
      "cell_type": "markdown",
      "metadata": {
        "id": "ARN3tLvjsX1y"
      },
      "source": [
        "早速，掛け算してみる．"
      ]
    },
    {
      "cell_type": "code",
      "metadata": {
        "id": "Lrwhz0_ysayt",
        "outputId": "9e6312ba-fc33-422a-f77b-61dcba4396df",
        "colab": {
          "base_uri": "https://localhost:8080/",
          "height": 34
        }
      },
      "source": [
        "alkwarizmi_prod(34, 56) # 34 x 56"
      ],
      "execution_count": null,
      "outputs": [
        {
          "output_type": "execute_result",
          "data": {
            "text/plain": [
              "1904"
            ]
          },
          "metadata": {
            "tags": []
          },
          "execution_count": 2
        }
      ]
    },
    {
      "cell_type": "markdown",
      "metadata": {
        "id": "l8wR9dwRsid8"
      },
      "source": [
        "念の為に検算する．"
      ]
    },
    {
      "cell_type": "code",
      "metadata": {
        "id": "buugv6DRshQT",
        "outputId": "bfac37c8-f8c0-4c48-d9b5-06d6feb68cc1",
        "colab": {
          "base_uri": "https://localhost:8080/",
          "height": 34
        }
      },
      "source": [
        "34 * 56"
      ],
      "execution_count": null,
      "outputs": [
        {
          "output_type": "execute_result",
          "data": {
            "text/plain": [
              "1904"
            ]
          },
          "metadata": {
            "tags": []
          },
          "execution_count": 3
        }
      ]
    },
    {
      "cell_type": "markdown",
      "metadata": {
        "id": "EPZrOLMfsnSn"
      },
      "source": [
        "正しいようだ．"
      ]
    }
  ]
}