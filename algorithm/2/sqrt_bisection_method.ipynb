{
  "nbformat": 4,
  "nbformat_minor": 0,
  "metadata": {
    "colab": {
      "name": "sqrt_bisection_method.ipynb",
      "provenance": [],
      "collapsed_sections": [],
      "toc_visible": true,
      "include_colab_link": true
    },
    "kernelspec": {
      "name": "python3",
      "display_name": "Python 3"
    }
  },
  "cells": [
    {
      "cell_type": "markdown",
      "metadata": {
        "id": "view-in-github",
        "colab_type": "text"
      },
      "source": [
        "<a href=\"https://colab.research.google.com/github/moeuu/colab/blob/main/algorithm/2/sqrt_bisection_method.ipynb\" target=\"_parent\"><img src=\"https://colab.research.google.com/assets/colab-badge.svg\" alt=\"Open In Colab\"/></a>"
      ]
    },
    {
      "cell_type": "markdown",
      "metadata": {
        "id": "o-28FVbCW5Ue"
      },
      "source": [
        "# 平方根の見積もりのための2分法"
      ]
    },
    {
      "cell_type": "markdown",
      "source": [
        "## 平方根の見積もりのための2分法"
      ],
      "metadata": {
        "id": "nY0lE7SPZHbE"
      }
    },
    {
      "cell_type": "markdown",
      "metadata": {
        "id": "5R92YK3LW9jt"
      },
      "source": [
        "[平方根の見積もりに対する2分法](https://drive.google.com/file/d/1rAwJPMT1gKC3E2AHdQFeMh7o_YbKcxWE/view?usp=sharing)を関数square_root_bisection_methodとして以下に定義する．"
      ]
    },
    {
      "cell_type": "code",
      "source": [
        "def square_root_bisection_method(x, p):\n",
        "    a, b = 0, x\n",
        "    while b - a > p:\n",
        "        m = (a + b) / 2 # このコードはPython3用なので，この商は小数部分切り捨てではない．\n",
        "        if m ** 2 > x:\n",
        "            b = m\n",
        "        else:\n",
        "            a = m\n",
        "    return a, b"
      ],
      "metadata": {
        "id": "eGynbgveZVX3"
      },
      "execution_count": null,
      "outputs": []
    },
    {
      "cell_type": "markdown",
      "source": [
        "試しに，$\\sqrt{2}$を精度0.0001で見積もってみる．"
      ],
      "metadata": {
        "id": "JK4KDgz4ZjsY"
      }
    },
    {
      "cell_type": "code",
      "source": [
        "square_root_bisection_method(2, 0.0001)"
      ],
      "metadata": {
        "colab": {
          "base_uri": "https://localhost:8080/"
        },
        "id": "QLoVkbGTZtSd",
        "outputId": "28ba2991-7988-42c9-9607-67d0c0ed9d27"
      },
      "execution_count": null,
      "outputs": [
        {
          "output_type": "execute_result",
          "data": {
            "text/plain": [
              "(1.4141845703125, 1.41424560546875)"
            ]
          },
          "metadata": {},
          "execution_count": 2
        }
      ]
    },
    {
      "cell_type": "markdown",
      "source": [
        "それらしい値が出力された．\n",
        "\n",
        "アルゴリズムの途中経過を観察するための表示命令を加えた関数をchatty_square_root_bisection_methodとして以下に定義する．"
      ],
      "metadata": {
        "id": "inUT-qyWZzPm"
      }
    },
    {
      "cell_type": "code",
      "metadata": {
        "id": "IwKKp1QsV3qq"
      },
      "source": [
        "def chatty_square_root_bisection_method(x, p):\n",
        "    a, b = 0, x\n",
        "    while b - a > p:\n",
        "        print(f'[a, b] = [{a:4.3f}, {b:4.3f}]') # この命令でアルゴリズムの途中経過を観察する．\n",
        "        # {a:4.3f}は「変数aの値を，少数(f)で，全部で4桁で，小数点以下は3桁で揃えて表示」という意味である．\n",
        "        m = (a + b) / 2 # このコードはPython3用なので，この商は小数部分切り捨てではない．\n",
        "        if m ** 2 > x:\n",
        "            b = m\n",
        "        else:\n",
        "            a = m\n",
        "    return a, b"
      ],
      "execution_count": null,
      "outputs": []
    },
    {
      "cell_type": "markdown",
      "metadata": {
        "id": "eo_MLcyLXOS6"
      },
      "source": [
        "試しに，$\\sqrt{2}$を精度0.1で見積もってみる．"
      ]
    },
    {
      "cell_type": "code",
      "metadata": {
        "id": "nDMarTQ0WUFZ",
        "outputId": "4169aa49-984f-4bb5-f4ad-bf2a10be2c1c",
        "colab": {
          "base_uri": "https://localhost:8080/"
        }
      },
      "source": [
        "chatty_square_root_bisection_method(2, 0.1)"
      ],
      "execution_count": null,
      "outputs": [
        {
          "output_type": "stream",
          "name": "stdout",
          "text": [
            "[a, b] = [0.000, 2.000]\n",
            "[a, b] = [1.000, 2.000]\n",
            "[a, b] = [1.000, 1.500]\n",
            "[a, b] = [1.250, 1.500]\n",
            "[a, b] = [1.375, 1.500]\n"
          ]
        },
        {
          "output_type": "execute_result",
          "data": {
            "text/plain": [
              "(1.375, 1.4375)"
            ]
          },
          "metadata": {},
          "execution_count": 4
        }
      ]
    },
    {
      "cell_type": "markdown",
      "metadata": {
        "id": "jOuLEKLEXUyo"
      },
      "source": [
        "区間$[a, b]$に$\\sqrt{2}$を含みながら，$b - a$が半分ずつになる様子が見て取れる．\n",
        "\n",
        "そして見積もりとしては甘く感じるが，$\\sqrt{2}$は1.375と1.4375の間にあるとわかる．\n",
        "\n",
        "もう少し精度を上げて，$\\sqrt{2}$を精度0.0001で見積もってみる．"
      ]
    },
    {
      "cell_type": "code",
      "metadata": {
        "id": "zW1N5CU5WZNf",
        "outputId": "4a8646bc-4707-45e0-8a16-6f60e37b7274",
        "colab": {
          "base_uri": "https://localhost:8080/"
        }
      },
      "source": [
        "chatty_square_root_bisection_method(2, 0.0001)"
      ],
      "execution_count": null,
      "outputs": [
        {
          "output_type": "stream",
          "name": "stdout",
          "text": [
            "[a, b] = [0.000, 2.000]\n",
            "[a, b] = [1.000, 2.000]\n",
            "[a, b] = [1.000, 1.500]\n",
            "[a, b] = [1.250, 1.500]\n",
            "[a, b] = [1.375, 1.500]\n",
            "[a, b] = [1.375, 1.438]\n",
            "[a, b] = [1.406, 1.438]\n",
            "[a, b] = [1.406, 1.422]\n",
            "[a, b] = [1.414, 1.422]\n",
            "[a, b] = [1.414, 1.418]\n",
            "[a, b] = [1.414, 1.416]\n",
            "[a, b] = [1.414, 1.415]\n",
            "[a, b] = [1.414, 1.415]\n",
            "[a, b] = [1.414, 1.414]\n",
            "[a, b] = [1.414, 1.414]\n"
          ]
        },
        {
          "output_type": "execute_result",
          "data": {
            "text/plain": [
              "(1.4141845703125, 1.41424560546875)"
            ]
          },
          "metadata": {},
          "execution_count": 5
        }
      ]
    },
    {
      "cell_type": "markdown",
      "metadata": {
        "id": "w3aqGI7CXmgE"
      },
      "source": [
        "2分法を用いると，目標を含む区間が毎回半分になる．\n",
        "よって探索範囲が狭まるのは意外と早い．"
      ]
    },
    {
      "cell_type": "markdown",
      "source": [
        "## 再帰アルゴリズムとしての2分法"
      ],
      "metadata": {
        "id": "v7HSJggxa181"
      }
    },
    {
      "cell_type": "markdown",
      "source": [
        "再帰アルゴリズムとしての平方根の見積もりのための2分法を関数recursive_square_root_bisection_methodとして以下に定義する．\n",
        "関数recursive_square_root_bisection_methodは再帰関数recursive_square_root_bisectionを呼び出すだけの関数なので，実質的な再帰アルゴリズムを表しているのは再帰関数recursive_square_root_bisectionである．"
      ],
      "metadata": {
        "id": "33fDBR7-euFL"
      }
    },
    {
      "cell_type": "code",
      "source": [
        "def recursive_square_root_bisection_method(x, p): # この関数はサブルーチンとしての再帰関数を呼び出すだけ\n",
        "    # このように実質的な働きはなく，引数のつじつまを合わせるだけの関数をラッパー関数などと呼んだりする．\n",
        "    return recursive_square_root_bisection(x, p, 0, x)\n",
        "\n",
        "def recursive_square_root_bisection(x, p, a, b): # この関数が実質的な再帰アルゴリズム\n",
        "    if b - a <= p:\n",
        "        return a, b\n",
        "    m = (a + b) / 2 # このコードはPython3用なので，この商は小数部分切り捨てではない．\n",
        "    if m ** 2 > x:\n",
        "        return recursive_square_root_bisection(x, p, a, m)\n",
        "    else:\n",
        "        return recursive_square_root_bisection(x, p, m, b)"
      ],
      "metadata": {
        "id": "ELMFV8R4a98S"
      },
      "execution_count": null,
      "outputs": []
    },
    {
      "cell_type": "code",
      "source": [
        "recursive_square_root_bisection_method(2, 0.0001)"
      ],
      "metadata": {
        "colab": {
          "base_uri": "https://localhost:8080/"
        },
        "id": "Fozkqc02dorx",
        "outputId": "3db2b190-444e-4427-ec41-a631a25fec9a"
      },
      "execution_count": null,
      "outputs": [
        {
          "output_type": "execute_result",
          "data": {
            "text/plain": [
              "(1.4141845703125, 1.41424560546875)"
            ]
          },
          "metadata": {},
          "execution_count": 9
        }
      ]
    }
  ]
}