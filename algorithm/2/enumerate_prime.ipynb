{
  "nbformat": 4,
  "nbformat_minor": 0,
  "metadata": {
    "colab": {
      "name": "enumerate_prime.ipynb",
      "provenance": [],
      "collapsed_sections": [],
      "include_colab_link": true
    },
    "kernelspec": {
      "name": "python3",
      "display_name": "Python 3"
    }
  },
  "cells": [
    {
      "cell_type": "markdown",
      "metadata": {
        "id": "view-in-github",
        "colab_type": "text"
      },
      "source": [
        "<a href=\"https://colab.research.google.com/github/moeuu/colab/blob/main/algorithm/2/enumerate_prime.ipynb\" target=\"_parent\"><img src=\"https://colab.research.google.com/assets/colab-badge.svg\" alt=\"Open In Colab\"/></a>"
      ]
    },
    {
      "cell_type": "markdown",
      "metadata": {
        "id": "OS8o8p8TtMyw"
      },
      "source": [
        "# 素数列挙三種"
      ]
    },
    {
      "cell_type": "markdown",
      "metadata": {
        "id": "6seZFWr2tPsB"
      },
      "source": [
        "以下に3種類の素数列挙法を関数として定義して，その性能を比較してみる．"
      ]
    },
    {
      "cell_type": "markdown",
      "metadata": {
        "id": "p-as0QITv7jZ"
      },
      "source": [
        "## 単純な方法による素数列挙"
      ]
    },
    {
      "cell_type": "markdown",
      "metadata": {
        "id": "_fPBfZUbwB7m"
      },
      "source": [
        "まず，与えられた正整数xが素数か否かを単純な方法で判定する関数is_prime_simplyを以下に定義する．"
      ]
    },
    {
      "cell_type": "code",
      "metadata": {
        "id": "5-bZFl7TtMC1"
      },
      "source": [
        "def is_prime_simply(x):\n",
        "    for y in range(2, x):\n",
        "        if x % y == 0:\n",
        "            return False\n",
        "    return True"
      ],
      "execution_count": null,
      "outputs": []
    },
    {
      "cell_type": "markdown",
      "metadata": {
        "id": "58LtZM_8toQu"
      },
      "source": [
        "定義した関数is_prime_simplyを早速試してみる．"
      ]
    },
    {
      "cell_type": "code",
      "metadata": {
        "id": "Vsr2KZxftngD",
        "outputId": "140fdda4-e9a2-4fc9-d6d1-bb4038b071d7",
        "colab": {
          "base_uri": "https://localhost:8080/",
          "height": 34
        }
      },
      "source": [
        "is_prime_simply(23)"
      ],
      "execution_count": null,
      "outputs": [
        {
          "output_type": "execute_result",
          "data": {
            "text/plain": [
              "True"
            ]
          },
          "metadata": {
            "tags": []
          },
          "execution_count": 2
        }
      ]
    },
    {
      "cell_type": "code",
      "metadata": {
        "id": "FBW-1RdZtuXo",
        "outputId": "7d0c8565-bf5a-418c-dfb3-b7e93eafa365",
        "colab": {
          "base_uri": "https://localhost:8080/",
          "height": 34
        }
      },
      "source": [
        "is_prime_simply(24)"
      ],
      "execution_count": null,
      "outputs": [
        {
          "output_type": "execute_result",
          "data": {
            "text/plain": [
              "False"
            ]
          },
          "metadata": {
            "tags": []
          },
          "execution_count": 3
        }
      ]
    },
    {
      "cell_type": "markdown",
      "metadata": {
        "id": "HXIOJItjtxmO"
      },
      "source": [
        "正しく定義できたようだ．\n",
        "\n",
        "次に，素数判定アルゴリズムを実装した関数を利用して，素数を列挙するアルゴリズムを関数enumerate_primeとして定義する．\n",
        "後々再利用可能なように，素数判定関数を引数で指定できるようにしておく．"
      ]
    },
    {
      "cell_type": "code",
      "metadata": {
        "id": "x0mpusqrtwhA"
      },
      "source": [
        "def enumerate_prime(n, is_prime): # Pythonは関数も引数にできるから便利\n",
        "    P = []\n",
        "    for x in range(2, n + 1):\n",
        "        if is_prime(x):\n",
        "            P.append(x)\n",
        "    return P"
      ],
      "execution_count": null,
      "outputs": []
    },
    {
      "cell_type": "markdown",
      "metadata": {
        "id": "ggh8_usduPAI"
      },
      "source": [
        "素数判定関数としてis_prime_simplyを指定して100までの素数を列挙してみる．"
      ]
    },
    {
      "cell_type": "code",
      "metadata": {
        "id": "2P1P_6KsuWPO",
        "outputId": "577b15f4-6cf0-4414-8693-cc2dcfdc9d8f",
        "colab": {
          "base_uri": "https://localhost:8080/",
          "height": 442
        }
      },
      "source": [
        "enumerate_prime(100, is_prime_simply)"
      ],
      "execution_count": null,
      "outputs": [
        {
          "output_type": "execute_result",
          "data": {
            "text/plain": [
              "[2,\n",
              " 3,\n",
              " 5,\n",
              " 7,\n",
              " 11,\n",
              " 13,\n",
              " 17,\n",
              " 19,\n",
              " 23,\n",
              " 29,\n",
              " 31,\n",
              " 37,\n",
              " 41,\n",
              " 43,\n",
              " 47,\n",
              " 53,\n",
              " 59,\n",
              " 61,\n",
              " 67,\n",
              " 71,\n",
              " 73,\n",
              " 79,\n",
              " 83,\n",
              " 89,\n",
              " 97]"
            ]
          },
          "metadata": {
            "tags": []
          },
          "execution_count": 4
        }
      ]
    },
    {
      "cell_type": "markdown",
      "metadata": {
        "id": "V22dDZetucAJ"
      },
      "source": [
        "確かに素数を列挙できているようだ．\n"
      ]
    },
    {
      "cell_type": "markdown",
      "metadata": {
        "id": "fEbBrhOhwLuv"
      },
      "source": [
        "## 平方根を利用して少しだけ賢く素数列挙"
      ]
    },
    {
      "cell_type": "markdown",
      "metadata": {
        "id": "T92SR5sVwaXI"
      },
      "source": [
        "次に，平方根を素数判定に利用するアルゴリズムを関数is_prime_sqrtとして以下に定義する．"
      ]
    },
    {
      "cell_type": "code",
      "metadata": {
        "id": "r1YpFoT5uahY"
      },
      "source": [
        "import math # 平方根の計算のために数学関数モジュールmathをimport\n",
        "\n",
        "def is_prime_sqrt(x):\n",
        "    for y in range(2, int(math.sqrt(x)) + 1):\n",
        "        if x % y == 0:\n",
        "            return False\n",
        "    return True"
      ],
      "execution_count": null,
      "outputs": []
    },
    {
      "cell_type": "markdown",
      "metadata": {
        "id": "Z_QQtZ1ku_n0"
      },
      "source": [
        "早速，関数is_prime_sqrtを試してみる．"
      ]
    },
    {
      "cell_type": "code",
      "metadata": {
        "id": "ZEH7crWBuvrk",
        "outputId": "5698e943-6a33-47f2-e6a2-91b62f4150cb",
        "colab": {
          "base_uri": "https://localhost:8080/",
          "height": 34
        }
      },
      "source": [
        "is_prime_sqrt(23)"
      ],
      "execution_count": null,
      "outputs": [
        {
          "output_type": "execute_result",
          "data": {
            "text/plain": [
              "True"
            ]
          },
          "metadata": {
            "tags": []
          },
          "execution_count": 7
        }
      ]
    },
    {
      "cell_type": "code",
      "metadata": {
        "id": "XPt_klDBvG4A",
        "outputId": "dbde6154-c205-4d4c-9daf-ceb6d3485769",
        "colab": {
          "base_uri": "https://localhost:8080/",
          "height": 34
        }
      },
      "source": [
        "is_prime_sqrt(24)"
      ],
      "execution_count": null,
      "outputs": [
        {
          "output_type": "execute_result",
          "data": {
            "text/plain": [
              "False"
            ]
          },
          "metadata": {
            "tags": []
          },
          "execution_count": 8
        }
      ]
    },
    {
      "cell_type": "markdown",
      "metadata": {
        "id": "4J6WNXp6vNjv"
      },
      "source": [
        "確かに素数を判定できているようだ．\n",
        "\n",
        "この素数判定関数を用いて再度素数を列挙してみる．\n",
        "素数判定関数としてis_prime_sqrtを指定して，100までの素数を列挙する．"
      ]
    },
    {
      "cell_type": "code",
      "metadata": {
        "id": "4LbQMadDvIv3",
        "outputId": "63f930e0-9846-4490-bbda-f391cb33df45",
        "colab": {
          "base_uri": "https://localhost:8080/",
          "height": 442
        }
      },
      "source": [
        "enumerate_prime(100, is_prime_sqrt)"
      ],
      "execution_count": null,
      "outputs": [
        {
          "output_type": "execute_result",
          "data": {
            "text/plain": [
              "[2,\n",
              " 3,\n",
              " 5,\n",
              " 7,\n",
              " 11,\n",
              " 13,\n",
              " 17,\n",
              " 19,\n",
              " 23,\n",
              " 29,\n",
              " 31,\n",
              " 37,\n",
              " 41,\n",
              " 43,\n",
              " 47,\n",
              " 53,\n",
              " 59,\n",
              " 61,\n",
              " 67,\n",
              " 71,\n",
              " 73,\n",
              " 79,\n",
              " 83,\n",
              " 89,\n",
              " 97]"
            ]
          },
          "metadata": {
            "tags": []
          },
          "execution_count": 9
        }
      ]
    },
    {
      "cell_type": "markdown",
      "metadata": {
        "id": "xb8YsP8svfNg"
      },
      "source": [
        "先ほどと同じ結果が得られた．"
      ]
    },
    {
      "cell_type": "markdown",
      "metadata": {
        "id": "aQXu830pwioY"
      },
      "source": [
        "## エラトステネスの篩を用いて素数列挙"
      ]
    },
    {
      "cell_type": "markdown",
      "metadata": {
        "id": "rrYopmGvwmMa"
      },
      "source": [
        "素数列挙の最後としてエラトステネスの篩を関数eratosthenesとして以下に定義する．"
      ]
    },
    {
      "cell_type": "code",
      "metadata": {
        "id": "5xKkHtkhvd5j"
      },
      "source": [
        "def eratosthenes(n):\n",
        "    P = []\n",
        "    q = [True for i in range(n + 1)]\n",
        "    for i in range(2, n + 1):\n",
        "        if q[i] == True:\n",
        "            P.append(i)\n",
        "            for j in range(2, n // i + 1):\n",
        "                q[i * j] = False\n",
        "    return P"
      ],
      "execution_count": null,
      "outputs": []
    },
    {
      "cell_type": "markdown",
      "metadata": {
        "id": "V108D3sZvrot"
      },
      "source": [
        "早速，関数eratosthenesを試してみる．"
      ]
    },
    {
      "cell_type": "code",
      "metadata": {
        "id": "iyUnfRhEvqPy",
        "outputId": "2fbadc0a-339f-4b2b-b1ab-093db548f3e6",
        "colab": {
          "base_uri": "https://localhost:8080/",
          "height": 442
        }
      },
      "source": [
        "eratosthenes(100)"
      ],
      "execution_count": null,
      "outputs": [
        {
          "output_type": "execute_result",
          "data": {
            "text/plain": [
              "[2,\n",
              " 3,\n",
              " 5,\n",
              " 7,\n",
              " 11,\n",
              " 13,\n",
              " 17,\n",
              " 19,\n",
              " 23,\n",
              " 29,\n",
              " 31,\n",
              " 37,\n",
              " 41,\n",
              " 43,\n",
              " 47,\n",
              " 53,\n",
              " 59,\n",
              " 61,\n",
              " 67,\n",
              " 71,\n",
              " 73,\n",
              " 79,\n",
              " 83,\n",
              " 89,\n",
              " 97]"
            ]
          },
          "metadata": {
            "tags": []
          },
          "execution_count": 11
        }
      ]
    },
    {
      "cell_type": "markdown",
      "metadata": {
        "id": "PxDpOd-cvyqj"
      },
      "source": [
        "やはり先ほどと同じ結果が得られた．"
      ]
    },
    {
      "cell_type": "markdown",
      "metadata": {
        "id": "VrpHpJMMwsZ0"
      },
      "source": [
        "## 3種類の素数列挙アルゴリズムの計算時間"
      ]
    },
    {
      "cell_type": "markdown",
      "metadata": {
        "id": "eWCOwSGFwy_7"
      },
      "source": [
        "ここまでに実装した3種類の素数列挙アルゴリズムの計算時間を比較してみる．"
      ]
    },
    {
      "cell_type": "code",
      "metadata": {
        "id": "8RWl5bl6vxZA",
        "outputId": "3a5e1062-2b0a-4d62-8a41-6b8b60375f25",
        "colab": {
          "base_uri": "https://localhost:8080/",
          "height": 51
        }
      },
      "source": [
        "%%time\n",
        "_ = enumerate_prime(10**5, is_prime_simply) # 素数が表示されるとうざいので，素数はデフォルト変数に格納"
      ],
      "execution_count": null,
      "outputs": [
        {
          "output_type": "stream",
          "text": [
            "CPU times: user 31.4 s, sys: 125 ms, total: 31.5 s\n",
            "Wall time: 31.6 s\n"
          ],
          "name": "stdout"
        }
      ]
    },
    {
      "cell_type": "markdown",
      "metadata": {
        "id": "aZeVtobdxlwf"
      },
      "source": [
        "単純な方法によって10万までの素数を列挙すると約30秒かかる．"
      ]
    },
    {
      "cell_type": "code",
      "metadata": {
        "id": "p5LIZckvxMa9",
        "outputId": "4730ab5c-c787-4220-fc1d-fae52331342c",
        "colab": {
          "base_uri": "https://localhost:8080/",
          "height": 51
        }
      },
      "source": [
        "%%time\n",
        "_ = enumerate_prime(10**5, is_prime_sqrt)"
      ],
      "execution_count": null,
      "outputs": [
        {
          "output_type": "stream",
          "text": [
            "CPU times: user 188 ms, sys: 2.99 ms, total: 191 ms\n",
            "Wall time: 194 ms\n"
          ],
          "name": "stdout"
        }
      ]
    },
    {
      "cell_type": "markdown",
      "metadata": {
        "id": "2HwkgbFax5Wr"
      },
      "source": [
        "一方で，平方根を利用して10万までの素数を列挙すれば1秒もかからない．\n",
        "より正確には200ミリ秒くらいである．"
      ]
    },
    {
      "cell_type": "code",
      "metadata": {
        "id": "R6vVWH_wx2o3",
        "outputId": "d9d5a2e0-5cd8-48a5-e56a-eccd54febb96",
        "colab": {
          "base_uri": "https://localhost:8080/",
          "height": 51
        }
      },
      "source": [
        "%%time\n",
        "_ = enumerate_prime(10**6, is_prime_sqrt)"
      ],
      "execution_count": null,
      "outputs": [
        {
          "output_type": "stream",
          "text": [
            "CPU times: user 4.52 s, sys: 24 ms, total: 4.55 s\n",
            "Wall time: 4.56 s\n"
          ],
          "name": "stdout"
        }
      ]
    },
    {
      "cell_type": "markdown",
      "metadata": {
        "id": "qMTDo-TVyXAx"
      },
      "source": [
        "さらに，平方根を利用して100万までの素数を列挙しても高々5秒程度である．\n",
        "\n",
        "1000万までの素数の列挙はどうだろうか？"
      ]
    },
    {
      "cell_type": "code",
      "metadata": {
        "id": "-We99BUBy2Q0",
        "outputId": "811868a5-e49c-4dff-8ecb-e5753a329381",
        "colab": {
          "base_uri": "https://localhost:8080/",
          "height": 51
        }
      },
      "source": [
        "%%time\n",
        "_ = enumerate_prime(10**7, is_prime_sqrt)"
      ],
      "execution_count": null,
      "outputs": [
        {
          "output_type": "stream",
          "text": [
            "CPU times: user 2min 2s, sys: 879 ms, total: 2min 3s\n",
            "Wall time: 2min 3s\n"
          ],
          "name": "stdout"
        }
      ]
    },
    {
      "cell_type": "markdown",
      "metadata": {
        "id": "UX5kYkpIzJIQ"
      },
      "source": [
        "1000万までの素数を平方根利用によって列挙すると2分くらいかかる．\n",
        "\n",
        "エラトステネスの篩を用いるとどうだろうか？"
      ]
    },
    {
      "cell_type": "code",
      "metadata": {
        "id": "O9DTYEtKyvas",
        "outputId": "df50ad13-8b01-4984-f02f-314dbf4557dd",
        "colab": {
          "base_uri": "https://localhost:8080/",
          "height": 51
        }
      },
      "source": [
        "%%time\n",
        "_ = eratosthenes(10**7)"
      ],
      "execution_count": null,
      "outputs": [
        {
          "output_type": "stream",
          "text": [
            "CPU times: user 4.49 s, sys: 151 ms, total: 4.64 s\n",
            "Wall time: 4.65 s\n"
          ],
          "name": "stdout"
        }
      ]
    },
    {
      "cell_type": "markdown",
      "metadata": {
        "id": "DyOAbiF2zudT"
      },
      "source": [
        "エラトステネスの篩ならば1000万までの素数を列挙しても5秒程度で終わる．"
      ]
    },
    {
      "cell_type": "markdown",
      "metadata": {
        "id": "7IbAf9XD4DQE"
      },
      "source": [
        "列挙する素数の上界$n$を固定して比較するのではなく，$n$を変化させて３種類のアルゴリズムの計算時間とその傾向を探ることにする．\n",
        "\n",
        "単純な素数列挙法を待てるのはせいぜい$n = 10^5$程度までなので，$n = 1 \\times 10^4, \\ 2 \\times 10^4, \\ \\dots, \\ 10 \\times 10^4$に関して計算時間を計測し，プロットして観察してみる．\n",
        "\n",
        "まず，$n$のリストを用意する．"
      ]
    },
    {
      "cell_type": "code",
      "metadata": {
        "id": "L_rYw0tPzl_D",
        "outputId": "2e8df8ac-e183-4a9a-e287-dbf9c8a3216a",
        "colab": {
          "base_uri": "https://localhost:8080/",
          "height": 34
        }
      },
      "source": [
        "N = [i * 10**4 for i in range(1, 11)]\n",
        "N"
      ],
      "execution_count": null,
      "outputs": [
        {
          "output_type": "execute_result",
          "data": {
            "text/plain": [
              "[10000, 20000, 30000, 40000, 50000, 60000, 70000, 80000, 90000, 100000]"
            ]
          },
          "metadata": {
            "tags": []
          },
          "execution_count": 5
        }
      ]
    },
    {
      "cell_type": "markdown",
      "metadata": {
        "id": "3OE9I13C422L"
      },
      "source": [
        "次に，それぞれのアルゴリズムの計算時間を計測しリストに保存する．"
      ]
    },
    {
      "cell_type": "code",
      "metadata": {
        "id": "mLTyiivV0Zg6"
      },
      "source": [
        "import time # 大まかな計算時間がわかればいいのでtimeモジュールを利用\n",
        "cpu_time_dict = {'simple': [], 'sqrt': [], 'eratosthenes': []}\n",
        "for n in N:\n",
        "    start_time = time.time()\n",
        "    _ = enumerate_prime(n, is_prime_simply)\n",
        "    cpu_time_dict['simple'].append(time.time() - start_time)\n",
        "    start_time = time.time()\n",
        "    _ = enumerate_prime(n, is_prime_sqrt)\n",
        "    cpu_time_dict['sqrt'].append(time.time() - start_time)\n",
        "    start_time = time.time()\n",
        "    _ = eratosthenes(n)\n",
        "    cpu_time_dict['eratosthenes'].append(time.time() - start_time)"
      ],
      "execution_count": null,
      "outputs": []
    },
    {
      "cell_type": "markdown",
      "metadata": {
        "id": "VbujtV135Jqv"
      },
      "source": [
        "そしてグラフにプロットしてみる．"
      ]
    },
    {
      "cell_type": "code",
      "metadata": {
        "id": "DKlgxUAb1J6Q"
      },
      "source": [
        "import matplotlib.pyplot as plt # プロット用にmatplotlibをimport"
      ],
      "execution_count": null,
      "outputs": []
    },
    {
      "cell_type": "code",
      "metadata": {
        "id": "Bz2bUaMV1Wsw",
        "outputId": "349e1073-16e9-48c7-cdc8-9b7dbd9ff57f",
        "colab": {
          "base_uri": "https://localhost:8080/",
          "height": 500
        }
      },
      "source": [
        "%matplotlib inline\n",
        "plt.figure(figsize=(16,8))\n",
        "plt.subplots_adjust(wspace=0.2)\n",
        "scale_dict = {1: 'linear', 2: 'log'}\n",
        "for i, scale in scale_dict.items():\n",
        "    plt.subplot(1, 2, i)\n",
        "    plt.xlabel('$n$')\n",
        "    plt.ylabel('CPU time (sec.)')\n",
        "    plt.yscale(scale)\n",
        "    for algo, ctime in cpu_time_dict.items():\n",
        "        _ = plt.plot(N, ctime, 'o-', label=algo)\n",
        "    _ = plt.legend()"
      ],
      "execution_count": null,
      "outputs": [
        {
          "output_type": "display_data",
          "data": {
            "image/png": "[encoded data removed]",
            "text/plain": [
              "<Figure size 1152x576 with 2 Axes>"
            ]
          },
          "metadata": {
            "tags": []
          }
        }
      ]
    },
    {
      "cell_type": "markdown",
      "metadata": {
        "id": "VLLWLeox3Cl4"
      },
      "source": [
        "左のグラフは横軸に列挙される素数の上界$n$，縦軸に計算時間（秒）をプロットしたものである．\n",
        "この場合は，平方根を利用するアルゴリズムとエラトステネスの篩の違いがわからない．\n",
        "\n",
        "右のグラフは縦軸の計算時間（秒）を対数にしてプロットしたものである．\n",
        "こうすると，エラトステネスの篩が圧倒的に速いことがわかる．\n"
      ]
    }
  ]
}