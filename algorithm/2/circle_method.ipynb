{
  "nbformat": 4,
  "nbformat_minor": 0,
  "metadata": {
    "colab": {
      "name": "circle_method.ipynb",
      "provenance": [],
      "collapsed_sections": [],
      "include_colab_link": true
    },
    "kernelspec": {
      "name": "python3",
      "display_name": "Python 3"
    }
  },
  "cells": [
    {
      "cell_type": "markdown",
      "metadata": {
        "id": "view-in-github",
        "colab_type": "text"
      },
      "source": [
        "<a href=\"https://colab.research.google.com/github/moeuu/colab/blob/main/algorithm/2/circle_method.ipynb\" target=\"_parent\"><img src=\"https://colab.research.google.com/assets/colab-badge.svg\" alt=\"Open In Colab\"/></a>"
      ]
    },
    {
      "cell_type": "markdown",
      "metadata": {
        "id": "5I257Rhrm12y"
      },
      "source": [
        "# 総当たり戦スケジュールを出力するcircle method"
      ]
    },
    {
      "cell_type": "markdown",
      "metadata": {
        "id": "YBvj5tCnm72r"
      },
      "source": [
        "総当たり戦のスケジュールを出力するcircle methodを以下にcircle_methodとして定義する．\n",
        "関数circle_methodの引数はチーム名のリストである．\n",
        "Circle methodについて詳しくは\n",
        "\n",
        "* 宮代隆平，総当りリーグ戦とグラフ理論，オペレーションズ・リサーチ，Vol. 52 (2007)，pp. 547--550.\n",
        "\n",
        "を参照されたい．\n",
        "Circle method自体は単純なものであるが，コードにすると意外とわかりにくい．"
      ]
    },
    {
      "cell_type": "code",
      "metadata": {
        "id": "9nxckdZYm04u"
      },
      "source": [
        "def circle_method(T):\n",
        "    n = len(T)\n",
        "    c = [T[i] for i in range(n)]\n",
        "    p = {}\n",
        "    for t in T:\n",
        "        p[t] = []\n",
        "    for d in range(1, n):\n",
        "        for i in range(n):\n",
        "            p[c[i]].append(c[n - i - 1])\n",
        "        cc = ['' for i in range(n)]\n",
        "        for i in range(1, n - 1):\n",
        "            cc[i] = c[i - 1]\n",
        "        cc[0] = c[n - 2]\n",
        "        for i in range(n - 1):\n",
        "            c[i] = cc[i]\n",
        "    return p"
      ],
      "execution_count": null,
      "outputs": []
    },
    {
      "cell_type": "markdown",
      "metadata": {
        "id": "o2I12Pnvosc1"
      },
      "source": [
        "試しに，10チームの名前のリストを引数としてスケジュールを作ってみる．"
      ]
    },
    {
      "cell_type": "code",
      "metadata": {
        "id": "QoMi4l3do2-K",
        "colab": {
          "base_uri": "https://localhost:8080/",
          "height": 187
        },
        "outputId": "77dd86b1-5fc2-4e45-f482-6fa637583770"
      },
      "source": [
        "T = ['A', 'B', 'C', 'D', 'E', 'F', 'G', 'H', 'I', 'J']\n",
        "p = circle_method(T)\n",
        "p"
      ],
      "execution_count": null,
      "outputs": [
        {
          "output_type": "execute_result",
          "data": {
            "text/plain": [
              "{'A': ['J', 'H', 'F', 'D', 'B', 'I', 'G', 'E', 'C'],\n",
              " 'B': ['I', 'G', 'E', 'C', 'A', 'H', 'F', 'D', 'J'],\n",
              " 'C': ['H', 'F', 'D', 'B', 'I', 'G', 'E', 'J', 'A'],\n",
              " 'D': ['G', 'E', 'C', 'A', 'H', 'F', 'J', 'B', 'I'],\n",
              " 'E': ['F', 'D', 'B', 'I', 'G', 'J', 'C', 'A', 'H'],\n",
              " 'F': ['E', 'C', 'A', 'H', 'J', 'D', 'B', 'I', 'G'],\n",
              " 'G': ['D', 'B', 'I', 'J', 'E', 'C', 'A', 'H', 'F'],\n",
              " 'H': ['C', 'A', 'J', 'F', 'D', 'B', 'I', 'G', 'E'],\n",
              " 'I': ['B', 'J', 'G', 'E', 'C', 'A', 'H', 'F', 'D'],\n",
              " 'J': ['A', 'I', 'H', 'G', 'F', 'E', 'D', 'C', 'B']}"
            ]
          },
          "metadata": {
            "tags": []
          },
          "execution_count": 3
        }
      ]
    },
    {
      "cell_type": "markdown",
      "metadata": {
        "id": "jrfg1EGhpA2j"
      },
      "source": [
        "対戦スケジュールは，キーがそれぞれのチーム名，値が対戦相手の辞書として返されるが，そのままでは見にくい．\n",
        "見やすいようにpandasの表として表示してみる．"
      ]
    },
    {
      "cell_type": "code",
      "metadata": {
        "id": "wtQBaasho8Mx",
        "colab": {
          "base_uri": "https://localhost:8080/",
          "height": 359
        },
        "outputId": "83750dd2-ec5f-434a-868e-d4b35ad90e46"
      },
      "source": [
        "import pandas as pd\n",
        "df = pd.DataFrame(p)\n",
        "df.T"
      ],
      "execution_count": null,
      "outputs": [
        {
          "output_type": "execute_result",
          "data": {
            "text/html": [
              "<div>\n",
              "<style scoped>\n",
              "    .dataframe tbody tr th:only-of-type {\n",
              "        vertical-align: middle;\n",
              "    }\n",
              "\n",
              "    .dataframe tbody tr th {\n",
              "        vertical-align: top;\n",
              "    }\n",
              "\n",
              "    .dataframe thead th {\n",
              "        text-align: right;\n",
              "    }\n",
              "</style>\n",
              "<table border=\"1\" class=\"dataframe\">\n",
              "  <thead>\n",
              "    <tr style=\"text-align: right;\">\n",
              "      <th></th>\n",
              "      <th>0</th>\n",
              "      <th>1</th>\n",
              "      <th>2</th>\n",
              "      <th>3</th>\n",
              "      <th>4</th>\n",
              "      <th>5</th>\n",
              "      <th>6</th>\n",
              "      <th>7</th>\n",
              "      <th>8</th>\n",
              "    </tr>\n",
              "  </thead>\n",
              "  <tbody>\n",
              "    <tr>\n",
              "      <th>A</th>\n",
              "      <td>J</td>\n",
              "      <td>H</td>\n",
              "      <td>F</td>\n",
              "      <td>D</td>\n",
              "      <td>B</td>\n",
              "      <td>I</td>\n",
              "      <td>G</td>\n",
              "      <td>E</td>\n",
              "      <td>C</td>\n",
              "    </tr>\n",
              "    <tr>\n",
              "      <th>B</th>\n",
              "      <td>I</td>\n",
              "      <td>G</td>\n",
              "      <td>E</td>\n",
              "      <td>C</td>\n",
              "      <td>A</td>\n",
              "      <td>H</td>\n",
              "      <td>F</td>\n",
              "      <td>D</td>\n",
              "      <td>J</td>\n",
              "    </tr>\n",
              "    <tr>\n",
              "      <th>C</th>\n",
              "      <td>H</td>\n",
              "      <td>F</td>\n",
              "      <td>D</td>\n",
              "      <td>B</td>\n",
              "      <td>I</td>\n",
              "      <td>G</td>\n",
              "      <td>E</td>\n",
              "      <td>J</td>\n",
              "      <td>A</td>\n",
              "    </tr>\n",
              "    <tr>\n",
              "      <th>D</th>\n",
              "      <td>G</td>\n",
              "      <td>E</td>\n",
              "      <td>C</td>\n",
              "      <td>A</td>\n",
              "      <td>H</td>\n",
              "      <td>F</td>\n",
              "      <td>J</td>\n",
              "      <td>B</td>\n",
              "      <td>I</td>\n",
              "    </tr>\n",
              "    <tr>\n",
              "      <th>E</th>\n",
              "      <td>F</td>\n",
              "      <td>D</td>\n",
              "      <td>B</td>\n",
              "      <td>I</td>\n",
              "      <td>G</td>\n",
              "      <td>J</td>\n",
              "      <td>C</td>\n",
              "      <td>A</td>\n",
              "      <td>H</td>\n",
              "    </tr>\n",
              "    <tr>\n",
              "      <th>F</th>\n",
              "      <td>E</td>\n",
              "      <td>C</td>\n",
              "      <td>A</td>\n",
              "      <td>H</td>\n",
              "      <td>J</td>\n",
              "      <td>D</td>\n",
              "      <td>B</td>\n",
              "      <td>I</td>\n",
              "      <td>G</td>\n",
              "    </tr>\n",
              "    <tr>\n",
              "      <th>G</th>\n",
              "      <td>D</td>\n",
              "      <td>B</td>\n",
              "      <td>I</td>\n",
              "      <td>J</td>\n",
              "      <td>E</td>\n",
              "      <td>C</td>\n",
              "      <td>A</td>\n",
              "      <td>H</td>\n",
              "      <td>F</td>\n",
              "    </tr>\n",
              "    <tr>\n",
              "      <th>H</th>\n",
              "      <td>C</td>\n",
              "      <td>A</td>\n",
              "      <td>J</td>\n",
              "      <td>F</td>\n",
              "      <td>D</td>\n",
              "      <td>B</td>\n",
              "      <td>I</td>\n",
              "      <td>G</td>\n",
              "      <td>E</td>\n",
              "    </tr>\n",
              "    <tr>\n",
              "      <th>I</th>\n",
              "      <td>B</td>\n",
              "      <td>J</td>\n",
              "      <td>G</td>\n",
              "      <td>E</td>\n",
              "      <td>C</td>\n",
              "      <td>A</td>\n",
              "      <td>H</td>\n",
              "      <td>F</td>\n",
              "      <td>D</td>\n",
              "    </tr>\n",
              "    <tr>\n",
              "      <th>J</th>\n",
              "      <td>A</td>\n",
              "      <td>I</td>\n",
              "      <td>H</td>\n",
              "      <td>G</td>\n",
              "      <td>F</td>\n",
              "      <td>E</td>\n",
              "      <td>D</td>\n",
              "      <td>C</td>\n",
              "      <td>B</td>\n",
              "    </tr>\n",
              "  </tbody>\n",
              "</table>\n",
              "</div>"
            ],
            "text/plain": [
              "   0  1  2  3  4  5  6  7  8\n",
              "A  J  H  F  D  B  I  G  E  C\n",
              "B  I  G  E  C  A  H  F  D  J\n",
              "C  H  F  D  B  I  G  E  J  A\n",
              "D  G  E  C  A  H  F  J  B  I\n",
              "E  F  D  B  I  G  J  C  A  H\n",
              "F  E  C  A  H  J  D  B  I  G\n",
              "G  D  B  I  J  E  C  A  H  F\n",
              "H  C  A  J  F  D  B  I  G  E\n",
              "I  B  J  G  E  C  A  H  F  D\n",
              "J  A  I  H  G  F  E  D  C  B"
            ]
          },
          "metadata": {
            "tags": []
          },
          "execution_count": 7
        }
      ]
    },
    {
      "cell_type": "markdown",
      "metadata": {
        "id": "KKakrp6wqO72"
      },
      "source": [
        "各行がチーム名，各列が日付に対応している．\n",
        "$t$行目の$d$列は「チーム$t$の$d$日目の対戦相手のチーム名」である．\n",
        "日付が0始まりだが気にしないことにする．"
      ]
    }
  ]
}