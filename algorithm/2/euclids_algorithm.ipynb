{
  "nbformat": 4,
  "nbformat_minor": 0,
  "metadata": {
    "colab": {
      "name": "euclids_algorithm.ipynb",
      "provenance": [],
      "collapsed_sections": [],
      "include_colab_link": true
    },
    "kernelspec": {
      "name": "python3",
      "display_name": "Python 3"
    }
  },
  "cells": [
    {
      "cell_type": "markdown",
      "metadata": {
        "id": "view-in-github",
        "colab_type": "text"
      },
      "source": [
        "<a href=\"https://colab.research.google.com/github/moeuu/colab/blob/main/algorithm/2/euclids_algorithm.ipynb\" target=\"_parent\"><img src=\"https://colab.research.google.com/assets/colab-badge.svg\" alt=\"Open In Colab\"/></a>"
      ]
    },
    {
      "cell_type": "markdown",
      "metadata": {
        "id": "EkbH5HVzd0W7"
      },
      "source": [
        "# 最大公約数に対するユークリッドの互除法"
      ]
    },
    {
      "cell_type": "markdown",
      "source": [
        "## 最大公約数に対するユークリッドの互除法"
      ],
      "metadata": {
        "id": "7RxKXaqPWZxZ"
      }
    },
    {
      "cell_type": "markdown",
      "metadata": {
        "id": "WV2XJEBFd26c"
      },
      "source": [
        "ユークリッドの互除法により最大公約数を返す関数euclidを以下に定義する．\n",
        "なおPythonには，バージョン3.5から，最大公約数を返す関数gcdが標準モジュールmathに用意されている．"
      ]
    },
    {
      "cell_type": "code",
      "metadata": {
        "id": "Lh9nqxj9dzOX"
      },
      "source": [
        "def euclid(x, y):\n",
        "    x, y = max(x, y), min(x, y) # 最初に x ≧ y としておく\n",
        "    while y > 0:\n",
        "        x, y = y, x % y\n",
        "    return x"
      ],
      "execution_count": null,
      "outputs": []
    },
    {
      "cell_type": "markdown",
      "metadata": {
        "id": "7uHne5MGeyrX"
      },
      "source": [
        "この関数定義では，同時に複数の代入をする命令を2行目と4行目で使っている．\n",
        "これは正確にはtupleの代入である．\n",
        "このように複数の代入をできると入れ替え（スワップ）の際には便利である．\n",
        "\n",
        "試しに，10807と10403の最大公約数を求めてみる．"
      ]
    },
    {
      "cell_type": "code",
      "metadata": {
        "id": "UOp7yuUzfPNt",
        "colab": {
          "base_uri": "https://localhost:8080/",
          "height": 34
        },
        "outputId": "9f4f1ae3-7297-4200-e113-74659158390d"
      },
      "source": [
        "euclid(10807, 10403)"
      ],
      "execution_count": null,
      "outputs": [
        {
          "output_type": "execute_result",
          "data": {
            "text/plain": [
              "101"
            ]
          },
          "metadata": {
            "tags": []
          },
          "execution_count": 2
        }
      ]
    },
    {
      "cell_type": "markdown",
      "metadata": {
        "id": "wrYFyGkafJVA"
      },
      "source": [
        "確かに最大公約数を返してくれるようだ．\n",
        "\n",
        "念の為，Pythonの標準モジュールmathの関数gcdで計算してみる．"
      ]
    },
    {
      "cell_type": "code",
      "metadata": {
        "id": "os80zdKGfuD9",
        "colab": {
          "base_uri": "https://localhost:8080/",
          "height": 34
        },
        "outputId": "8419d005-fd5f-40f7-f4d2-07570aa59bf6"
      },
      "source": [
        "import math\n",
        "math.gcd(10807, 10403)"
      ],
      "execution_count": null,
      "outputs": [
        {
          "output_type": "execute_result",
          "data": {
            "text/plain": [
              "101"
            ]
          },
          "metadata": {
            "tags": []
          },
          "execution_count": 3
        }
      ]
    },
    {
      "cell_type": "markdown",
      "metadata": {
        "id": "WHJ0r_jdgJ0_"
      },
      "source": [
        "同じ結果になった．\n",
        "良かった．"
      ]
    },
    {
      "cell_type": "markdown",
      "source": [
        "## 再帰版ユークリッドの互除法"
      ],
      "metadata": {
        "id": "zEThTgmwWpSf"
      }
    },
    {
      "cell_type": "markdown",
      "source": [
        "再帰アルゴリズムとしてのユークリッドの互除法を関数recursive_euclidとして以下に定義する．"
      ],
      "metadata": {
        "id": "rWuYL0GdW_pW"
      }
    },
    {
      "cell_type": "code",
      "source": [
        "def recursive_euclid(x, y):\n",
        "    x, y = max(x, y), min(x, y) # 最初に x ≧ y としておく\n",
        "    if y == 0:\n",
        "        return x\n",
        "    else:\n",
        "        return recursive_euclid(y, x % y)"
      ],
      "metadata": {
        "id": "0Pqb-CnQXM1M"
      },
      "execution_count": null,
      "outputs": []
    },
    {
      "cell_type": "markdown",
      "source": [
        "この関数recursive_euclidは6行目で自分自身を呼んでいる．\n",
        "つまり再帰関数である．\n",
        "\n",
        "試しに，10807と10403の最大公約数を求めてみる．"
      ],
      "metadata": {
        "id": "6_KlwkjYXioH"
      }
    },
    {
      "cell_type": "code",
      "source": [
        "recursive_euclid(10807, 10403)"
      ],
      "metadata": {
        "colab": {
          "base_uri": "https://localhost:8080/"
        },
        "id": "-7FHFfAWXtpa",
        "outputId": "dffeb091-bee4-41ac-b3af-3235b178526a"
      },
      "execution_count": null,
      "outputs": [
        {
          "output_type": "execute_result",
          "data": {
            "text/plain": [
              "101"
            ]
          },
          "metadata": {},
          "execution_count": 2
        }
      ]
    },
    {
      "cell_type": "markdown",
      "source": [
        "確かに最大公約数を返してくれるようだ．"
      ],
      "metadata": {
        "id": "4xNTjnpbX3PB"
      }
    }
  ]
}