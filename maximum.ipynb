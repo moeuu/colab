{
  "nbformat": 4,
  "nbformat_minor": 0,
  "metadata": {
    "colab": {
      "name": "maximum.ipynb",
      "provenance": [],
      "include_colab_link": true
    },
    "kernelspec": {
      "name": "python3",
      "display_name": "Python 3"
    }
  },
  "cells": [
    {
      "cell_type": "markdown",
      "metadata": {
        "id": "view-in-github",
        "colab_type": "text"
      },
      "source": [
        "<a href=\"https://colab.research.google.com/github/moeuu/colab/blob/main/maximum.ipynb\" target=\"_parent\"><img src=\"https://colab.research.google.com/assets/colab-badge.svg\" alt=\"Open In Colab\"/></a>"
      ]
    },
    {
      "cell_type": "markdown",
      "metadata": {
        "id": "sLOtWB7gXhvq"
      },
      "source": [
        "# 最大値を求める問題に対するアルゴリズム"
      ]
    },
    {
      "cell_type": "markdown",
      "source": [
        "## 最大値を求める問題に対するアルゴリズム"
      ],
      "metadata": {
        "id": "6LS5TPe48i69"
      }
    },
    {
      "cell_type": "markdown",
      "metadata": {
        "id": "65IjxJeoXpk9"
      },
      "source": [
        "最大値を求める問題に対するアルゴリズムを関数maximumとして以下に定義する．\n",
        "なお，Pythonには最大値を返す組み込み関数maxがある．"
      ]
    },
    {
      "cell_type": "code",
      "metadata": {
        "id": "CIiTqFH4XhIX"
      },
      "source": [
        "def maximum(x):\n",
        "    y = x[0]\n",
        "    for i in range(1, len(x)):\n",
        "        if x[i] > y:\n",
        "            y = x[i]\n",
        "    return y"
      ],
      "execution_count": null,
      "outputs": []
    },
    {
      "cell_type": "markdown",
      "metadata": {
        "id": "TcIIbicoc9NX"
      },
      "source": [
        "試しに，てきと〜に作った数値のリストを引数として関数maximumをよびだしてみる．"
      ]
    },
    {
      "cell_type": "code",
      "metadata": {
        "id": "FmfAY5ZudGGm",
        "colab": {
          "base_uri": "https://localhost:8080/"
        },
        "outputId": "a4141000-f45c-423c-cfdc-ede72b0608dd"
      },
      "source": [
        "x = [3, 1, 4, 1, 5, 9, 2]\n",
        "maximum(x)"
      ],
      "execution_count": null,
      "outputs": [
        {
          "output_type": "execute_result",
          "data": {
            "text/plain": [
              "9"
            ]
          },
          "metadata": {},
          "execution_count": 3
        }
      ]
    },
    {
      "cell_type": "markdown",
      "metadata": {
        "id": "FhLpJO-KdNVs"
      },
      "source": [
        "確かに最大値を返してくれるようだ．"
      ]
    },
    {
      "cell_type": "markdown",
      "source": [
        "## 最大値を求める問題に対するアルゴリズムの再帰表現"
      ],
      "metadata": {
        "id": "Ojo9jsBf8WRF"
      }
    },
    {
      "cell_type": "markdown",
      "source": [
        "最大値を求める問題に対する再帰アルゴリズムを関数max_recursiveとして以下に定義する．"
      ],
      "metadata": {
        "id": "Te85PT5h83XH"
      }
    },
    {
      "cell_type": "code",
      "source": [
        "def max_recursive(x):\n",
        "    if len(x) == 1:\n",
        "        return x[0]\n",
        "    else:\n",
        "        return max(max_recursive(x[:-1]), x[-1]) # 組み込み関数maxを使うと元も子もないという気がするが，わかりやすさを優先し使用した．"
      ],
      "metadata": {
        "id": "F47MM1ERuceb"
      },
      "execution_count": null,
      "outputs": []
    },
    {
      "cell_type": "code",
      "source": [
        "print(x)\n",
        "print(max_recursive(x))"
      ],
      "metadata": {
        "colab": {
          "base_uri": "https://localhost:8080/"
        },
        "id": "Kxp9QSsKvIKp",
        "outputId": "80eaf2a9-5944-4669-ac7b-8ae70eaae47c"
      },
      "execution_count": null,
      "outputs": [
        {
          "output_type": "stream",
          "name": "stdout",
          "text": [
            "[3, 1, 4, 1, 5, 9, 2]\n",
            "9\n"
          ]
        }
      ]
    },
    {
      "cell_type": "markdown",
      "source": [
        "確かに最大値を返してくれるようだ．"
      ],
      "metadata": {
        "id": "MqGv4Plx9c-a"
      }
    }
  ]
}